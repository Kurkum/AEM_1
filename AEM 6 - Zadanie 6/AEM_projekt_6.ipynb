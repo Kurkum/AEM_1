{
 "cells": [
  {
   "cell_type": "code",
   "execution_count": 1,
   "metadata": {},
   "outputs": [],
   "source": [
    "%config IPCompleter.greedy=True  # Podpowiedzi składni\n",
    "import numpy as np\n",
    "from scipy.spatial import distance_matrix\n",
    "from scipy.stats import pearsonr\n",
    "\n",
    "import matplotlib.pyplot as plt\n",
    "import random\n",
    "import itertools\n",
    "import math\n",
    "import copy\n",
    "import time\n",
    "from sortedcontainers import SortedList\n",
    "\n",
    "# Własna funkcja zaokrąglająca\n",
    "def round2(number):\n",
    "    if (number - math.trunc(number) >= 0.5):\n",
    "        return math.trunc(number) + 1\n",
    "    else:\n",
    "        return math.trunc(number)"
   ]
  },
  {
   "cell_type": "code",
   "execution_count": 2,
   "metadata": {},
   "outputs": [],
   "source": [
    "file = open('kroA200.tsp.txt')\n",
    "#file = open('kroB200.tsp.txt')"
   ]
  },
  {
   "cell_type": "code",
   "execution_count": 3,
   "metadata": {},
   "outputs": [
    {
     "name": "stdout",
     "output_type": "stream",
     "text": [
      "1 1357 1905\n"
     ]
    }
   ],
   "source": [
    "# Pomiń zbędne linie\n",
    "\n",
    "next_line = file.readline()[0:-1]\n",
    "while next_line[0] != \"1\":\n",
    "    next_line = file.readline()[0:-1]\n",
    "print(next_line)"
   ]
  },
  {
   "cell_type": "code",
   "execution_count": 4,
   "metadata": {},
   "outputs": [
    {
     "name": "stdout",
     "output_type": "stream",
     "text": [
      "200\n",
      "3\n"
     ]
    }
   ],
   "source": [
    "# Wczytaj wszystkie punkty do tablicy\n",
    "\n",
    "points_tab = []\n",
    "while next_line!= \"EOF\":\n",
    "    points_tab.append(next_line.split(\" \"))\n",
    "    next_line = file.readline()[0:-1]\n",
    "    \n",
    "for x in range(len(points_tab)):\n",
    "    for y in range(len(points_tab[0])):\n",
    "        points_tab[x][y] = int(points_tab[x][y])\n",
    "    points_tab[x][0] = points_tab[x][0] - 1  # zmniejsz identyfikatory punktów o 1\n",
    "print(len(points_tab))\n",
    "print(len(points_tab[0]))\n",
    "\n",
    "\n",
    "#print(points_tab)"
   ]
  },
  {
   "cell_type": "code",
   "execution_count": 5,
   "metadata": {},
   "outputs": [],
   "source": [
    "# Utwórz tablicę odległości między punktami\n",
    "\n",
    "length_tab = list(np.zeros((len(points_tab),len(points_tab)), dtype=int))\n",
    "for x in range(len(length_tab)):\n",
    "    for y in range(len(length_tab[0])):\n",
    "        length_tab[x][y] = round2(math.sqrt((points_tab[x][1] - points_tab[y][1])**2 + (points_tab[x][2] - points_tab[y][2])**2))  # długość między punktem \"x\" i \"y\" w tablicy base_tab\n",
    "\n",
    "        \n",
    "#print(length_tab)"
   ]
  },
  {
   "cell_type": "code",
   "execution_count": 6,
   "metadata": {},
   "outputs": [],
   "source": [
    "# Funkcja zwracająca długość ścieżki\n",
    "\n",
    "def distance(path):\n",
    "    dist = 0\n",
    "    for x in range(len(path) - 1):\n",
    "        dist+=length_tab[path[x]][path[x+1]]\n",
    "    dist+=length_tab[path[len(path)-1]][path[0]]\n",
    "    return dist"
   ]
  },
  {
   "cell_type": "code",
   "execution_count": 7,
   "metadata": {},
   "outputs": [],
   "source": [
    "# funkcja zwracająca losową ścieżkę\n",
    "\n",
    "def get_random_path(data_size = 200):\n",
    "    path = np.arange(data_size)\n",
    "    np.random.shuffle(path)\n",
    "    inside = list(path[:int(data_size/2)])\n",
    "    outside = list(path[int(data_size/2):])\n",
    "    return inside, outside"
   ]
  },
  {
   "cell_type": "code",
   "execution_count": 8,
   "metadata": {},
   "outputs": [],
   "source": [
    "# Funkcja rysująca punkty na płaszczyźnie - zależnie od pochodzenia odpowiednio w różnych kolorach, połączone lub nie\n",
    "\n",
    "def print_graph(path, out):\n",
    "    points_inside = []\n",
    "    points_outside = []\n",
    "\n",
    "    plt.figure()\n",
    "    for i in path:\n",
    "        points_inside.append(copy.deepcopy(points_tab[i][1:]))\n",
    "    for i in out:\n",
    "        points_outside.append(copy.deepcopy(points_tab[i][1:]))\n",
    "\n",
    "    points_inside_0 = []\n",
    "    for x in points_inside:\n",
    "        points_inside_0.append(copy.deepcopy(x[0]))\n",
    "    points_inside_0.append(copy.deepcopy(points_inside[0][0]))\n",
    "    \n",
    "    points_inside_1 = []\n",
    "    for x in points_inside:\n",
    "        points_inside_1.append(copy.deepcopy(x[1]))\n",
    "    points_inside_1.append(copy.deepcopy(points_inside[0][1]))\n",
    "\n",
    "    points_outside_0 = []\n",
    "    for x in points_outside:\n",
    "        points_outside_0.append(copy.deepcopy(x[0]))\n",
    "    points_outside_1 = []\n",
    "    for x in points_outside:\n",
    "        points_outside_1.append(copy.deepcopy(x[1]))\n",
    "\n",
    "    plt.plot(points_inside_0,points_inside_1, '-o')\n",
    "    plt.plot(points_outside_0,points_outside_1, 'o')\n",
    "    plt.show()\n",
    "\n",
    "    \n",
    "#print_graph(path, out)"
   ]
  },
  {
   "cell_type": "code",
   "execution_count": 9,
   "metadata": {},
   "outputs": [],
   "source": [
    "# Funkcje pomocnicze\n",
    "\n",
    "def p_dist(a, b):  \n",
    "    return length_tab[a][b]\n",
    "\n",
    "def out_of(a, size = 100):  \n",
    "    if a < 0:\n",
    "        a = size + a\n",
    "    if a >= size:\n",
    "        a = a - size\n",
    "    return a"
   ]
  },
  {
   "cell_type": "code",
   "execution_count": 10,
   "metadata": {},
   "outputs": [],
   "source": [
    "# Funkcje algorytmu steepest\n",
    "\n",
    "def give_good_edges(path):\n",
    "    best_imp1 = 0\n",
    "    best_edges = []\n",
    "    \n",
    "    rx = random.randint(0, len(path)-1)  # Element losowości\n",
    "    ry = random.randint(0, len(path)-1)\n",
    "    \n",
    "\n",
    "    for x in range(len(path))[:]:  # Dla każdej krawędzi\n",
    "        for y in range(len(path))[:]:  # Dla każdej innej krawędzi\n",
    "            if out_of(x + rx) != out_of(y + ry):\n",
    "\n",
    "                new_imp = p_dist(path[out_of(x + rx)], path[out_of(x+1 + rx)]) + p_dist(path[out_of(y + ry)], path[out_of(y+1 + ry)]) - p_dist(path[out_of(x + rx)], path[out_of(y + ry)]) - p_dist(path[out_of(x+1 + rx)], path[out_of(y+1 + ry)])\n",
    "                \n",
    "                if new_imp > best_imp1:  # Jeśli jest to dobre rozwiązanie, od razu je zwróć\n",
    "                    return new_imp, [out_of(x + rx), out_of(y + ry)]\n",
    "   \n",
    "    return best_imp1, best_edges\n",
    "\n",
    "\n",
    "def give_good_vertices(path, out):\n",
    "    best_imp2 = 0\n",
    "    best_vertices = []\n",
    "    \n",
    "    rx = random.randint(0, len(path)-1)  # Element losowości\n",
    "    ry = random.randint(0, len(path)-1)\n",
    "    \n",
    "    for x in range(len(path))[:]:  # Dla każdego wierzchołka ze ścieżki\n",
    "        for y in range(len(out))[:]:  # Dla każdego wierzchołka spoza ścieżki\n",
    "\n",
    "            new_imp = p_dist(path[out_of(x-1 + rx)], path[out_of(x + rx)]) + p_dist(path[out_of(x + rx)], path[out_of(x+1 + rx)]) - p_dist(path[out_of(x-1 + rx)], out[out_of(y + ry)]) - p_dist(out[out_of(y + ry)], path[out_of(x+1 + rx)])\n",
    "            \n",
    "            if new_imp > best_imp2:  # Jeśli jest to dobre rozwiązanie, od razu je zwróć\n",
    "                return new_imp, [out_of(x + rx), out_of(y + ry)]\n",
    "                    \n",
    "    return best_imp2, best_vertices\n"
   ]
  },
  {
   "cell_type": "code",
   "execution_count": 11,
   "metadata": {},
   "outputs": [],
   "source": [
    "# Funkcja zmieniająca ścieżkę zgodnie z podanymi danymi\n",
    "\n",
    "def change_your_path(path, out, best_imp1, best_imp2, best_edges, best_vertices):\n",
    "    \n",
    "    if best_imp1 >= best_imp2:  #podmień krawędzie\n",
    "        \n",
    "        x = best_edges[0]\n",
    "        y = best_edges[1]\n",
    "\n",
    "        for z in range(int(abs(y - x)/2)):  # Zamiana krawędzi, czyli obrócenie kolejności (krawędź1; krawędź2>\n",
    "            if x < y:\n",
    "                path[x + 1 + z], path[y - z] = path[y - z], path[x + 1 + z]\n",
    "            else:\n",
    "                path[y + 1 + z], path[x - z] = path[x - z], path[y + 1 + z]\n",
    "                \n",
    "    else:  #podmień punkty\n",
    "        \n",
    "        x = path[best_vertices[0]]\n",
    "        y = out[best_vertices[1]]\n",
    "\n",
    "        path.insert(path.index(x), y)\n",
    "        path.remove(x)\n",
    "\n",
    "        out.append(x)\n",
    "        out.remove(y)"
   ]
  },
  {
   "cell_type": "markdown",
   "metadata": {},
   "source": [
    "# Zbieranie ścieżek dla zbioru"
   ]
  },
  {
   "cell_type": "code",
   "execution_count": 12,
   "metadata": {},
   "outputs": [],
   "source": [
    "repeat_test = 1000"
   ]
  },
  {
   "cell_type": "code",
   "execution_count": 13,
   "metadata": {},
   "outputs": [
    {
     "name": "stdout",
     "output_type": "stream",
     "text": [
      "Min_path: 14736\n",
      "Average_path: 16997.493\n",
      "Max_path: 20313\n",
      "\n",
      "Min_time: 0.969783600000028\n",
      "Avg_time: 2.289786347600001\n",
      "Max_time: 4.6958981000002495\n",
      "\n",
      "BEST: 14736\n"
     ]
    },
    {
     "data": {
      "image/png": "[encoded data removed]",
      "text/plain": [
       "<Figure size 432x288 with 1 Axes>"
      ]
     },
     "metadata": {
      "needs_background": "light"
     },
     "output_type": "display_data"
    }
   ],
   "source": [
    "min_path = 1000000\n",
    "avg_path = 0\n",
    "max_path = 0\n",
    "\n",
    "min_time = time.perf_counter() + 100000\n",
    "avg_time = 0\n",
    "max_time = 0\n",
    "\n",
    "best_path = [0]\n",
    "best_out = [0]\n",
    "\n",
    "\n",
    "\n",
    "path_list = []\n",
    "\n",
    "for alfa in range(repeat_test):\n",
    "    path_time = time.perf_counter()\n",
    "    \n",
    "\n",
    "    # ALGORYTM ZACHŁANNY / GREEDY\n",
    "    path, out = get_random_path(len(points_tab))\n",
    "    \n",
    "    while(True):\n",
    "        \n",
    "        best_imp1, best_edges = give_good_edges(path)\n",
    "        best_imp2, best_vertices = give_good_vertices(path, out)\n",
    "\n",
    "        # Jeśli znaleziono poprawę: zapisz rezultat\n",
    "        if best_imp1 > 0 or best_imp2 > 0:  \n",
    "            change_your_path(path, out, best_imp1, best_imp2, best_edges, best_vertices)    \n",
    "        # Jeśli nie: zakończ\n",
    "        else:\n",
    "            break\n",
    "    \n",
    "    path_time = time.perf_counter() - path_time\n",
    "    \n",
    "    \n",
    "    # Obliczanie statystyk\n",
    "    if distance(path) < min_path:\n",
    "        min_path = distance(path)\n",
    "        best_path = path\n",
    "        best_out = out\n",
    "    if distance(path) > max_path:\n",
    "        max_path = distance(path)\n",
    "    avg_path += distance(path)\n",
    "        \n",
    "    if path_time < min_time:\n",
    "        min_time = path_time\n",
    "    if path_time > max_time:\n",
    "        max_time = path_time\n",
    "    avg_time += path_time\n",
    "    \n",
    "\n",
    "    path_list.append([path, out])\n",
    "    \n",
    "    \n",
    "    \n",
    "print(\"Min_path: \"+str(min_path))\n",
    "avg_path = avg_path/(repeat_test)\n",
    "print(\"Average_path: \"+str(avg_path))\n",
    "print(\"Max_path: \"+str(max_path))\n",
    "print()\n",
    "print(\"Min_time: \"+str(min_time))\n",
    "avg_time /= repeat_test\n",
    "print(\"Avg_time: \"+str(avg_time))\n",
    "print(\"Max_time: \"+str(max_time))\n",
    "\n",
    "\n",
    "print(\"\\nBEST: \", end = '')\n",
    "print(distance(best_path))\n",
    "print_graph(best_path, best_out)\n",
    "    \n",
    "\n"
   ]
  },
  {
   "cell_type": "code",
   "execution_count": 14,
   "metadata": {},
   "outputs": [],
   "source": [
    "############ DO NOT USE - SAFETY PURPOSE\n",
    "safe_list_A = copy.deepcopy(path_list)\n",
    "############ DO NOT USE - SAFETY PURPOSE"
   ]
  },
  {
   "cell_type": "code",
   "execution_count": 15,
   "metadata": {},
   "outputs": [
    {
     "name": "stdout",
     "output_type": "stream",
     "text": [
      "1000\n"
     ]
    }
   ],
   "source": [
    "# PATH_LIST\n",
    "print(len(path_list))\n",
    "#for beta in range(len(path_list)):\n",
    "    #print(distance(path_list[beta][0]))"
   ]
  },
  {
   "cell_type": "code",
   "execution_count": null,
   "metadata": {},
   "outputs": [],
   "source": []
  },
  {
   "cell_type": "markdown",
   "metadata": {},
   "source": [
    "# Podobieństwo"
   ]
  },
  {
   "cell_type": "code",
   "execution_count": 16,
   "metadata": {},
   "outputs": [
    {
     "name": "stdout",
     "output_type": "stream",
     "text": [
      "[102, 113, 97, 87, 27, 38, 37, 70, 55, 151, 177, 195, 85, 94, 93, 90, 149, 172, 22, 34, 1, 180, 124, 76, 157, 127, 100, 3, 162, 92, 105, 148, 191, 107, 68, 141, 130, 179, 155, 99, 73, 56, 35, 98, 18, 91, 9, 174, 196, 44, 32, 80, 96, 103, 164, 95, 165, 47, 115, 187, 62, 15, 117, 123, 137, 25, 135, 60, 183, 28, 171, 45, 120, 173, 116, 114, 52, 0, 84, 190, 26, 197, 122, 14, 159, 161, 54, 185, 119, 46, 156, 186, 5, 108, 106, 154, 182, 21, 133, 145]\n"
     ]
    }
   ],
   "source": [
    "# best_path wciąż w pamięci\n",
    "\n",
    "print(best_path)"
   ]
  },
  {
   "cell_type": "code",
   "execution_count": 17,
   "metadata": {},
   "outputs": [],
   "source": [
    "results = []\n",
    "\n",
    "for gamma in range(len(path_list)):\n",
    "    \n",
    "    # Podobieństwo ścieżek do najlepszej ścieżki\n",
    "    comm_vertices_best = 0\n",
    "    comm_edges_best = 0\n",
    "    \n",
    "    for x in range(len(best_path)):\n",
    "        if best_path[x] in path_list[gamma][0]:\n",
    "            comm_vertices_best += 1  # Wspólny wierzchołek\n",
    "        for y in range(len(path_list[gamma][0])):\n",
    "            if best_path[x] == path_list[gamma][0][y]:\n",
    "                if best_path[out_of(x+1)] == path_list[gamma][0][out_of(y - 1)] or best_path[out_of(x+1)] == path_list[gamma][0][out_of(y + 1)]:\n",
    "                    comm_edges_best += 1  # Wspólna krawędź\n",
    "    \n",
    "    \n",
    "    \n",
    "    # Średnie podobieństwo ścieżek do pozostałych ścieżek\n",
    "    comm_vertices_mean = 0\n",
    "    comm_edges_mean = 0\n",
    "    \n",
    "    for z in range(len(path_list)):\n",
    "        if gamma != z:  # Nie bierzemy pod uwagę tej samej ścieżki\n",
    "            for x in range(len(path_list[gamma][0])):\n",
    "                if path_list[gamma][0][x] in path_list[z][0]:\n",
    "                    comm_vertices_mean += 1  # Wspólny wierzchołek\n",
    "                for y in range(len(path_list[z][0])):\n",
    "                    if path_list[gamma][0][x] == path_list[z][0][y]:\n",
    "                        if path_list[gamma][0][out_of(x+1)] == path_list[z][0][out_of(y - 1)] or path_list[gamma][0][out_of(x+1)] == path_list[z][0][out_of(y + 1)]:\n",
    "                            comm_edges_mean += 1  # Wspólna krawędź\n",
    "    \n",
    "    # Końcowe poprawki dla podobieństw ścieżek do pozostałych ścieżek\n",
    "    comm_vertices_mean /= (len(path_list) - 1)  # -1 -> Nie bierzemy pod uwagę tej samej ścieżki\n",
    "    comm_edges_mean /= (len(path_list) - 1)\n",
    "    \n",
    "    \n",
    "    \n",
    "    results.append([comm_vertices_best, comm_edges_best, comm_vertices_mean, comm_edges_mean])\n",
    "    \n",
    "#print(results)"
   ]
  },
  {
   "cell_type": "code",
   "execution_count": null,
   "metadata": {},
   "outputs": [],
   "source": []
  },
  {
   "cell_type": "markdown",
   "metadata": {},
   "source": [
    "# Wykresy i korelacje"
   ]
  },
  {
   "cell_type": "code",
   "execution_count": 18,
   "metadata": {},
   "outputs": [],
   "source": [
    "def print_graph_2(dist, comm):\n",
    "    plt.plot(dist, comm, 'o')\n",
    "    plt.xlabel(\"Długość ścieżki\", fontsize = 15)\n",
    "    plt.ylabel(\"Podobieństwo\", fontsize = 15)\n",
    "    plt.show()"
   ]
  },
  {
   "cell_type": "code",
   "execution_count": 19,
   "metadata": {},
   "outputs": [
    {
     "name": "stdout",
     "output_type": "stream",
     "text": [
      "Ilość wspólnych wierzchołków z najlepszą ścieżką:\n",
      "Współczynnik korelacji: (-0.342226222081278, 7.412653317753169e-29)\n"
     ]
    },
    {
     "data": {
      "image/png": "[encoded data removed]",
      "text/plain": [
       "<Figure size 432x288 with 1 Axes>"
      ]
     },
     "metadata": {
      "needs_background": "light"
     },
     "output_type": "display_data"
    },
    {
     "name": "stdout",
     "output_type": "stream",
     "text": [
      "\n",
      "\n",
      "Ilość wspólnych krawędzi z najlepszą ścieżką:\n",
      "Współczynnik korelacji: (-0.3939537624630444, 1.7980335332146765e-38)\n"
     ]
    },
    {
     "data": {
      "image/png": "[encoded data removed]",
      "text/plain": [
       "<Figure size 432x288 with 1 Axes>"
      ]
     },
     "metadata": {
      "needs_background": "light"
     },
     "output_type": "display_data"
    },
    {
     "name": "stdout",
     "output_type": "stream",
     "text": [
      "\n",
      "\n",
      "Średnia ilość wspólnych wierzchołków z innymi ścieżkami:\n",
      "Współczynnik korelacji: (-0.41077373875005535, 5.451810371811972e-42)\n"
     ]
    },
    {
     "data": {
      "image/png": "[encoded data removed]",
      "text/plain": [
       "<Figure size 432x288 with 1 Axes>"
      ]
     },
     "metadata": {
      "needs_background": "light"
     },
     "output_type": "display_data"
    },
    {
     "name": "stdout",
     "output_type": "stream",
     "text": [
      "\n",
      "\n",
      "Średnia ilość wspólnych krawędzi z innymi ścieżkami:\n",
      "Współczynnik korelacji: (-0.6629161951035035, 1.367011293656658e-127)\n"
     ]
    },
    {
     "data": {
      "image/png": "[encoded data removed]",
      "text/plain": [
       "<Figure size 432x288 with 1 Axes>"
      ]
     },
     "metadata": {
      "needs_background": "light"
     },
     "output_type": "display_data"
    }
   ],
   "source": [
    "distances = []\n",
    "for x in range(len(path_list)):\n",
    "    distances.append(distance(path_list[x][0]))\n",
    "\n",
    "\n",
    "\n",
    "print(\"Ilość wspólnych wierzchołków z najlepszą ścieżką:\")\n",
    "print(\"Współczynnik korelacji: \", end = '')\n",
    "\n",
    "commons = []\n",
    "for x in range(len(path_list)):\n",
    "    commons.append(results[x][0])\n",
    "\n",
    "print(pearsonr(distances, commons))\n",
    "print_graph_2(distances,commons)\n",
    "\n",
    "\n",
    "\n",
    "print(\"\\n\\nIlość wspólnych krawędzi z najlepszą ścieżką:\")\n",
    "print(\"Współczynnik korelacji: \", end = '')\n",
    "\n",
    "commons = []\n",
    "for x in range(len(path_list)):\n",
    "    commons.append(results[x][1])\n",
    "\n",
    "print(pearsonr(distances, commons))\n",
    "print_graph_2(distances,commons)\n",
    "\n",
    "\n",
    "\n",
    "print(\"\\n\\nŚrednia ilość wspólnych wierzchołków z innymi ścieżkami:\")\n",
    "print(\"Współczynnik korelacji: \", end = '')\n",
    "\n",
    "commons = []\n",
    "for x in range(len(path_list)):\n",
    "    commons.append(results[x][2])\n",
    "\n",
    "print(pearsonr(distances, commons))\n",
    "print_graph_2(distances,commons)\n",
    "\n",
    "\n",
    "\n",
    "print(\"\\n\\nŚrednia ilość wspólnych krawędzi z innymi ścieżkami:\")\n",
    "print(\"Współczynnik korelacji: \", end = '')\n",
    "\n",
    "commons = []\n",
    "for x in range(len(path_list)):\n",
    "    commons.append(results[x][3])\n",
    "\n",
    "print(pearsonr(distances, commons))\n",
    "print_graph_2(distances,commons)"
   ]
  },
  {
   "cell_type": "code",
   "execution_count": null,
   "metadata": {},
   "outputs": [],
   "source": []
  },
  {
   "cell_type": "code",
   "execution_count": 20,
   "metadata": {},
   "outputs": [
    {
     "name": "stdout",
     "output_type": "stream",
     "text": [
      "DONE\n"
     ]
    }
   ],
   "source": [
    "print(\"DONE\")"
   ]
  },
  {
   "cell_type": "code",
   "execution_count": null,
   "metadata": {},
   "outputs": [],
   "source": []
  }
 ],
 "metadata": {
  "kernelspec": {
   "display_name": "Python 3",
   "language": "python",
   "name": "python3"
  },
  "language_info": {
   "codemirror_mode": {
    "name": "ipython",
    "version": 3
   },
   "file_extension": ".py",
   "mimetype": "text/x-python",
   "name": "python",
   "nbconvert_exporter": "python",
   "pygments_lexer": "ipython3",
   "version": "3.7.6"
  }
 },
 "nbformat": 4,
 "nbformat_minor": 4
}

{
 "cells": [
  {
   "cell_type": "code",
   "execution_count": 1,
   "metadata": {},
   "outputs": [],
   "source": [
    "%config IPCompleter.greedy=True  # Podpowiedzi składni\n",
    "file = open('kroA100.tsp.txt')\n",
    "file2 = open('kroB100.tsp.txt')"
   ]
  },
  {
   "cell_type": "code",
   "execution_count": 2,
   "metadata": {},
   "outputs": [
    {
     "name": "stdout",
     "output_type": "stream",
     "text": [
      "1 1380 939\n"
     ]
    }
   ],
   "source": [
    "next_line = file.readline()[0:-1]\n",
    "while next_line[0] != \"1\":\n",
    "    next_line = file.readline()[0:-1]\n",
    "print(next_line)"
   ]
  },
  {
   "cell_type": "code",
   "execution_count": 3,
   "metadata": {},
   "outputs": [],
   "source": [
    "base_tab = []\n",
    "while next_line!= \"EOF\":\n",
    "    base_tab.append(next_line.split(\" \"))\n",
    "    next_line = file.readline()[0:-1]"
   ]
  },
  {
   "cell_type": "code",
   "execution_count": 4,
   "metadata": {},
   "outputs": [
    {
     "name": "stdout",
     "output_type": "stream",
     "text": [
      "100\n",
      "3\n"
     ]
    }
   ],
   "source": [
    "for x in range(len(base_tab)):\n",
    "    for y in range(len(base_tab[0])):\n",
    "        base_tab[x][y] = int(base_tab[x][y])\n",
    "print(len(base_tab))\n",
    "print(len(base_tab[0]))"
   ]
  },
  {
   "cell_type": "code",
   "execution_count": 5,
   "metadata": {},
   "outputs": [],
   "source": [
    "import math\n",
    "\n",
    "def round2(number):\n",
    "    if (number - math.trunc(number) >= 0.5):\n",
    "        return math.trunc(number) + 1\n",
    "    else:\n",
    "        return math.trunc(number)"
   ]
  },
  {
   "cell_type": "code",
   "execution_count": 6,
   "metadata": {},
   "outputs": [],
   "source": [
    "import numpy as np\n",
    "length_tab = np.zeros((len(base_tab),len(base_tab)), dtype=int)\n",
    "\n",
    "for x in range(len(length_tab)):\n",
    "    for y in range(len(length_tab[0])):\n",
    "        length_tab[x][y] = round2(math.sqrt((base_tab[x][1] - base_tab[y][1])**2 + (base_tab[x][2] - base_tab[y][2])**2))  # długość między punktem \"x\" i \"y\" w tablicy base_tab\n",
    "#print(length_tab)"
   ]
  },
  {
   "cell_type": "markdown",
   "metadata": {},
   "source": [
    "GREEDY CYCLE:"
   ]
  },
  {
   "cell_type": "code",
   "execution_count": 7,
   "metadata": {},
   "outputs": [],
   "source": [
    "import random\n",
    "\n",
    "def get_nearest(point):  # znajdowanie najbliższego wierzchołka dla zadanego\n",
    "    length = int\n",
    "    nearest = int\n",
    "    if point != 0:\n",
    "        length = length_tab[point][0]\n",
    "        nearest = 0\n",
    "    else:\n",
    "        length = length_tab[point][1]\n",
    "        nearest = 1\n",
    "    for x in range(len(length_tab)):\n",
    "        if length_tab[point][x] < length and point != x:\n",
    "            length = length_tab[point][x]\n",
    "            nearest = x\n",
    "    return nearest\n",
    "\n",
    "def distance(path):\n",
    "    if path == [0]:\n",
    "        return 0\n",
    "    dist = 0\n",
    "    for x in range(len(path) - 1):\n",
    "        dist+=length_tab[path[x]][path[x+1]]\n",
    "    dist+=length_tab[path[len(path)-1]][path[0]]\n",
    "    return dist\n",
    "\n",
    "def print2(path):  # ze względu na uproszczenie pracy w programie, wierzchołki są liczone od 0 - zaś w podanym pliku od 1\n",
    "    print(\"[\"+str(path[0] + 1), end = '')\n",
    "    for x in range(len(path)-1):\n",
    "        print(\", \" + str(path[x + 1] + 1), end = '')\n",
    "    print(\"]\")  "
   ]
  },
  {
   "cell_type": "code",
   "execution_count": 8,
   "metadata": {
    "scrolled": true
   },
   "outputs": [
    {
     "name": "stdout",
     "output_type": "stream",
     "text": [
      "Średnia ścieżka: 12572.54\n",
      "Najdłuższa ścieżka: 13266\n",
      "Najkrótsza ścieżka: 11095\n",
      "Najlepsza ścieżka: \n",
      "[62, 35, 86, 27, 12, 20, 7, 9, 57, 87, 51, 25, 81, 61, 58, 67, 28, 93, 1, 8, 92, 75, 97, 19, 53, 16, 70, 22, 94, 88, 18, 24, 38, 84, 79, 90, 49, 6, 63, 47, 11, 17, 15, 32, 45, 91, 98, 23, 77, 60]\n"
     ]
    }
   ],
   "source": [
    "scores = []\n",
    "best_path = [0]\n",
    "\n",
    "\n",
    "for iterator in range(100):\n",
    "    greedy_cycle = [random.randint(0, len(length_tab) - 1)]  # losuj pierwszy punkt\n",
    "    greedy_cycle.append(get_nearest(greedy_cycle[0]))  # znajdź najbliższy wierzchołek\n",
    "\n",
    "    while len(greedy_cycle) < len(length_tab) / 2:  # tak długo jak brakuje wierzchołków szukaj kolejnego\n",
    "        min_cost = max(length_tab[greedy_cycle[0]]) + max(length_tab[greedy_cycle[1]])\n",
    "        previous_point_index = 0\n",
    "        best_point = 0\n",
    "        for new_point in range(len(length_tab)):  # dla każdego punktu\n",
    "            if new_point not in greedy_cycle:\n",
    "                for x in range(len(greedy_cycle)):  # dla każdej krawędzi\n",
    "                    point1 = greedy_cycle[x]\n",
    "                    point2 = greedy_cycle[0]\n",
    "                    if x != len(greedy_cycle) - 1:\n",
    "                        point2 = greedy_cycle[x + 1]\n",
    "\n",
    "                    cost = length_tab[point1][new_point] + length_tab[point2][new_point] - length_tab[point1][point2]\n",
    "                    if cost < min_cost:\n",
    "                        min_cost = cost\n",
    "                        previous_point_index = x\n",
    "                        best_point = new_point\n",
    "\n",
    "        greedy_cycle.insert(previous_point_index + 1, best_point)  # wstaw nowy punkt za miejscem previous point\n",
    "        \n",
    "        \n",
    "    scores.append(distance(greedy_cycle))\n",
    "    if distance(greedy_cycle) < distance(best_path) or distance(best_path) == 0:\n",
    "        best_path = greedy_cycle\n",
    "\n",
    "        \n",
    "print(\"Średnia ścieżka: \"+str(sum(scores) / len(scores)))\n",
    "print(\"Najdłuższa ścieżka: \"+str(max(scores)))\n",
    "print(\"Najkrótsza ścieżka: \"+str(min(scores)))\n",
    "print(\"Najlepsza ścieżka: \")\n",
    "print2(best_path)"
   ]
  },
  {
   "cell_type": "markdown",
   "metadata": {},
   "source": [
    "REGRET ALGORITHM:\n",
    "Pierwsze trzy wierzchołki"
   ]
  },
  {
   "cell_type": "code",
   "execution_count": 9,
   "metadata": {},
   "outputs": [
    {
     "name": "stdout",
     "output_type": "stream",
     "text": [
      "Średnia ścieżka: 15742.78\n",
      "Najdłuższa ścieżka: 17171\n",
      "Najkrótsza ścieżka: 15007\n",
      "Najlepsza ścieżka: \n",
      "[88, 53, 66, 4, 97, 56, 80, 42, 8, 92, 63, 1, 67, 58, 61, 81, 69, 54, 2, 50, 82, 95, 76, 37, 96, 30, 48, 100, 41, 43, 29, 34, 83, 9, 12, 27, 35, 62, 60, 23, 91, 32, 17, 59, 99, 24, 18, 94, 22, 16]\n"
     ]
    }
   ],
   "source": [
    "scores = []\n",
    "best_path = [0]\n",
    "\n",
    "for iterator in range(100):\n",
    "    regret = [random.randint(0, len(length_tab) - 1)]  # losuj pierwszy punkt\n",
    "    regret.append(get_nearest(regret[0]))  # znajdź najbliższy wierzchołek\n",
    "\n",
    "    # Trzeci wierzchołek - dodawany na podstawie kosztu dodania, ponieważ na tym etapie żal dla wszystkich wierzchołków identyczny\n",
    "    min_cost = max(length_tab[regret[0]]) + max(length_tab[regret[1]])\n",
    "    previous_point_index = 0\n",
    "    best_point = 0\n",
    "    for new_point in range(len(length_tab)):  # dla każdego punktu\n",
    "        if new_point not in regret:\n",
    "            for x in range(len(regret)):  # dla każdej krawędzi\n",
    "                point1 = regret[x]\n",
    "                point2 = regret[0]\n",
    "                if x != len(regret) - 1:\n",
    "                    point2 = regret[x + 1]\n",
    "\n",
    "                cost = length_tab[point1][new_point] + length_tab[point2][new_point] - length_tab[point1][point2]\n",
    "                if cost < min_cost:\n",
    "                    min_cost = cost\n",
    "                    previous_point_index = x\n",
    "                    best_point = new_point\n",
    "\n",
    "    regret.insert(previous_point_index + 1, best_point)  # wstaw nowy punkt za miejscem previous point\n",
    "\n",
    "\n",
    "    # Pozostałe wierzchołki\n",
    "    while len(regret) < len(length_tab) / 2:  # tak długo jak brakuje wierzchołków szukaj kolejnego\n",
    "\n",
    "        points_results = []  # wyniki wszystkich wierzchołków\n",
    "        for new_point in range(len(length_tab)):  # dla każdego punktu\n",
    "            if new_point not in regret:\n",
    "                p_results = []  # wyniki tego jednego wierzchołka\n",
    "                for x in range(len(regret)):  # dla każdej krawędzi\n",
    "                    point1 = regret[x]\n",
    "                    point2 = regret[0]\n",
    "                    if x != len(regret) - 1:\n",
    "                        point2 = regret[x + 1]\n",
    "\n",
    "                    cost = length_tab[point1][new_point] + length_tab[point2][new_point] - length_tab[point1][point2]\n",
    "                    p_results.append(cost)\n",
    "                points_results.append(p_results)\n",
    "            else:\n",
    "                points_results.append([0, 0])\n",
    "\n",
    "        # Sortowanie wyników\n",
    "        for x in points_results:  \n",
    "            x.sort()\n",
    "\n",
    "        # Znajdowanie największego żalu\n",
    "        highest_regret = 0  \n",
    "        best_point = 0\n",
    "        for x in range(len(points_results)):\n",
    "            if x not in regret and points_results[x][1]-points_results[x][0] > highest_regret:\n",
    "                highest_regret = points_results[x][1]-points_results[x][0]\n",
    "                best_point = x\n",
    "\n",
    "        # Wstawienie wierzchołka o największym żalu do najlepszej lokalizacji\n",
    "        min_cost = max(length_tab[regret[0]]) + max(length_tab[regret[1]])\n",
    "        previous_point_index = 0\n",
    "\n",
    "        for x in range(len(regret)):\n",
    "            point1 = regret[x]\n",
    "            point2 = regret[0]\n",
    "            if x != len(regret) - 1:\n",
    "                point2 = regret[x + 1]\n",
    "\n",
    "            cost = length_tab[point1][best_point] + length_tab[point2][best_point] - length_tab[point1][point2]\n",
    "            if cost < min_cost:\n",
    "                min_cost = cost\n",
    "                previous_point_index = x\n",
    "\n",
    "        regret.insert(previous_point_index + 1, best_point)\n",
    "        \n",
    "        \n",
    "    scores.append(distance(regret))\n",
    "    if distance(regret) < distance(best_path) or distance(best_path) == 0:\n",
    "        best_path = regret\n",
    "    \n",
    "    \n",
    "\n",
    "print(\"Średnia ścieżka: \"+str(sum(scores) / len(scores)))\n",
    "print(\"Najdłuższa ścieżka: \"+str(max(scores)))\n",
    "print(\"Najkrótsza ścieżka: \"+str(min(scores)))\n",
    "print(\"Najlepsza ścieżka: \")\n",
    "print2(best_path)"
   ]
  }
 ],
 "metadata": {
  "kernelspec": {
   "display_name": "Python 3",
   "language": "python",
   "name": "python3"
  },
  "language_info": {
   "codemirror_mode": {
    "name": "ipython",
    "version": 3
   },
   "file_extension": ".py",
   "mimetype": "text/x-python",
   "name": "python",
   "nbconvert_exporter": "python",
   "pygments_lexer": "ipython3",
   "version": "3.7.6"
  }
 },
 "nbformat": 4,
 "nbformat_minor": 4
}

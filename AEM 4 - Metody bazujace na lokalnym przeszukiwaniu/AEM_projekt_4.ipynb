{
 "cells": [
  {
   "cell_type": "code",
   "execution_count": 1,
   "metadata": {},
   "outputs": [],
   "source": [
    "%config IPCompleter.greedy=True  # Podpowiedzi składni\n",
    "import numpy as np\n",
    "from scipy.spatial import distance_matrix\n",
    "import matplotlib.pyplot as plt\n",
    "import random\n",
    "import itertools\n",
    "import math\n",
    "import copy\n",
    "import time\n",
    "from sortedcontainers import SortedList\n",
    "\n",
    "# Własna funkcja zaokrąglająca\n",
    "def round2(number):\n",
    "    if (number - math.trunc(number) >= 0.5):\n",
    "        return math.trunc(number) + 1\n",
    "    else:\n",
    "        return math.trunc(number)"
   ]
  },
  {
   "cell_type": "code",
   "execution_count": 2,
   "metadata": {},
   "outputs": [],
   "source": [
    "file = open('kroA200.tsp.txt')\n",
    "# file = open('kroB200.tsp.txt')"
   ]
  },
  {
   "cell_type": "code",
   "execution_count": 3,
   "metadata": {},
   "outputs": [
    {
     "name": "stdout",
     "output_type": "stream",
     "text": [
      "1 1357 1905\n"
     ]
    }
   ],
   "source": [
    "# Pomiń zbędne linie\n",
    "\n",
    "next_line = file.readline()[0:-1]\n",
    "while next_line[0] != \"1\":\n",
    "    next_line = file.readline()[0:-1]\n",
    "print(next_line)"
   ]
  },
  {
   "cell_type": "code",
   "execution_count": 4,
   "metadata": {},
   "outputs": [],
   "source": [
    "# Wczytaj wszystkie punkty do tablicy\n",
    "\n",
    "points_tab = []\n",
    "while next_line!= \"EOF\":\n",
    "    points_tab.append(next_line.split(\" \"))\n",
    "    next_line = file.readline()[0:-1]"
   ]
  },
  {
   "cell_type": "code",
   "execution_count": 5,
   "metadata": {},
   "outputs": [
    {
     "name": "stdout",
     "output_type": "stream",
     "text": [
      "200\n",
      "3\n"
     ]
    }
   ],
   "source": [
    "for x in range(len(points_tab)):\n",
    "    for y in range(len(points_tab[0])):\n",
    "        points_tab[x][y] = int(points_tab[x][y])\n",
    "    points_tab[x][0] = points_tab[x][0] - 1  # zmniejsz identyfikatory punktów o 1\n",
    "print(len(points_tab))\n",
    "print(len(points_tab[0]))\n",
    "\n",
    "\n",
    "#print(points_tab)"
   ]
  },
  {
   "cell_type": "code",
   "execution_count": 6,
   "metadata": {},
   "outputs": [],
   "source": [
    "# Utwórz tablicę odległości między punktami\n",
    "\n",
    "length_tab = list(np.zeros((len(points_tab),len(points_tab)), dtype=int))\n",
    "for x in range(len(length_tab)):\n",
    "    for y in range(len(length_tab[0])):\n",
    "        length_tab[x][y] = round2(math.sqrt((points_tab[x][1] - points_tab[y][1])**2 + (points_tab[x][2] - points_tab[y][2])**2))  # długość między punktem \"x\" i \"y\" w tablicy base_tab\n",
    "\n",
    "        \n",
    "#print(length_tab)"
   ]
  },
  {
   "cell_type": "code",
   "execution_count": 7,
   "metadata": {},
   "outputs": [],
   "source": [
    "# Funkcja zwracająca długość ścieżki\n",
    "\n",
    "def distance(path):\n",
    "    dist = 0\n",
    "    for x in range(len(path) - 1):\n",
    "        dist+=length_tab[path[x]][path[x+1]]\n",
    "    dist+=length_tab[path[len(path)-1]][path[0]]\n",
    "    return dist"
   ]
  },
  {
   "cell_type": "code",
   "execution_count": 8,
   "metadata": {},
   "outputs": [],
   "source": [
    "# funkcja zwracająca losową ścieżkę\n",
    "\n",
    "def get_random_path(data_size):\n",
    "    path = np.arange(data_size)\n",
    "    np.random.shuffle(path)\n",
    "    inside = list(path[:int(data_size/2)])\n",
    "    outside = list(path[int(data_size/2):])\n",
    "    return inside, outside"
   ]
  },
  {
   "cell_type": "code",
   "execution_count": 9,
   "metadata": {},
   "outputs": [],
   "source": [
    "# Funkcja rysująca punkty na płaszczyźnie - zależnie od pochodzenia odpowiednio w różnych kolorach, połączone lub nie\n",
    "\n",
    "def print_graph(path, out):\n",
    "    points_inside = []\n",
    "    points_outside = []\n",
    "\n",
    "    plt.figure()\n",
    "    for i in path:\n",
    "        points_inside.append(copy.deepcopy(points_tab[i][1:]))\n",
    "    for i in out:\n",
    "        points_outside.append(copy.deepcopy(points_tab[i][1:]))\n",
    "\n",
    "    points_inside_0 = []\n",
    "    for x in points_inside:\n",
    "        points_inside_0.append(copy.deepcopy(x[0]))\n",
    "    points_inside_0.append(copy.deepcopy(points_inside[0][0]))\n",
    "    \n",
    "    points_inside_1 = []\n",
    "    for x in points_inside:\n",
    "        points_inside_1.append(copy.deepcopy(x[1]))\n",
    "    points_inside_1.append(copy.deepcopy(points_inside[0][1]))\n",
    "\n",
    "    points_outside_0 = []\n",
    "    for x in points_outside:\n",
    "        points_outside_0.append(copy.deepcopy(x[0]))\n",
    "    points_outside_1 = []\n",
    "    for x in points_outside:\n",
    "        points_outside_1.append(copy.deepcopy(x[1]))\n",
    "\n",
    "    plt.plot(points_inside_0,points_inside_1, '-o')\n",
    "    plt.plot(points_outside_0,points_outside_1, 'o')\n",
    "    plt.show()\n",
    "\n",
    "    \n",
    "#print_graph(path, out)"
   ]
  },
  {
   "cell_type": "code",
   "execution_count": 10,
   "metadata": {},
   "outputs": [],
   "source": [
    "# Funkcje pomocnicze\n",
    "\n",
    "def p_dist(a, b):  \n",
    "    return length_tab[a][b]\n",
    "\n",
    "def out_of(a, size = 100):  \n",
    "    if a < 0:\n",
    "        a = size + a\n",
    "    if a >= size:\n",
    "        a = a - size\n",
    "    return a"
   ]
  },
  {
   "cell_type": "code",
   "execution_count": 11,
   "metadata": {},
   "outputs": [],
   "source": [
    "def give_best_edges(path):\n",
    "    best_imp1 = 0\n",
    "    best_edges = []\n",
    "\n",
    "    for x in range(len(path))[:]:  # Dla każdej krawędzi\n",
    "        for y in range(len(path))[:]:  # Dla każdej innej krawędzi\n",
    "            if x!=y:\n",
    "\n",
    "                new_imp = p_dist(path[x], path[out_of(x+1)]) + p_dist(path[y], path[out_of(y+1)]) - p_dist(path[x], path[y]) - p_dist(path[out_of(x+1)], path[out_of(y+1)])\n",
    "                if new_imp > best_imp1:  # Jeśli jest to lepsze rozwiązanie, zapamiętaj je\n",
    "                    best_imp1 = new_imp\n",
    "                    best_edges = [x, y]\n",
    "    \n",
    "    return best_imp1, best_edges\n",
    "\n",
    "\n",
    "def give_best_vertices(path, out):\n",
    "    best_imp2 = 0\n",
    "    best_vertices = []\n",
    "    \n",
    "    for x in range(len(path))[:]:  # Dla każdego wierzchołka ze ścieżki\n",
    "            for y in range(len(out))[:]:  # Dla każdego wierzchołka spoza ścieżki\n",
    "\n",
    "                new_imp = p_dist(path[out_of(x-1)], path[x]) + p_dist(path[x], path[out_of(x+1)]) - p_dist(path[out_of(x-1)], out[y]) - p_dist(out[y], path[out_of(x+1)])\n",
    "                if new_imp > best_imp2:  # Jeśli jest to lepsze rozwiązanie, zapisz zmiany\n",
    "                    best_imp2 = new_imp\n",
    "                    best_vertices = [x, y]\n",
    "                    \n",
    "    return best_imp2, best_vertices\n"
   ]
  },
  {
   "cell_type": "code",
   "execution_count": 12,
   "metadata": {},
   "outputs": [],
   "source": [
    "def change_your_path(path, out, best_imp1, best_imp2, best_edges, best_vertices):\n",
    "    if best_imp1 >= best_imp2:\n",
    "        #podmień krawędzie\n",
    "        x = best_edges[0]\n",
    "        y = best_edges[1]\n",
    "\n",
    "        for z in range(int(abs(y - x)/2)):  # Zamiana krawędzi, czyli obrócenie kolejności (krawędź1; krawędź2>\n",
    "            if x < y:\n",
    "                path[x + 1 + z], path[y - z] = path[y - z], path[x + 1 + z]\n",
    "            else:\n",
    "                path[y + 1 + z], path[x - z] = path[x - z], path[y + 1 + z]\n",
    "    else:\n",
    "        #podmień punkty\n",
    "        x = path[best_vertices[0]]\n",
    "        y = out[best_vertices[1]]\n",
    "\n",
    "        path.insert(path.index(x), y)\n",
    "        path.remove(x)\n",
    "\n",
    "        out.append(x)\n",
    "        out.remove(y)"
   ]
  },
  {
   "cell_type": "code",
   "execution_count": 13,
   "metadata": {},
   "outputs": [],
   "source": [
    "# Liczba powtórzeń testowych\n",
    "\n",
    "repeat = 1"
   ]
  },
  {
   "cell_type": "markdown",
   "metadata": {},
   "source": [
    "# MSLS"
   ]
  },
  {
   "cell_type": "code",
   "execution_count": 18,
   "metadata": {},
   "outputs": [
    {
     "name": "stdout",
     "output_type": "stream",
     "text": [
      "\n",
      "\n",
      "18231\n"
     ]
    },
    {
     "data": {
      "image/png": "[encoded data removed]",
      "text/plain": [
       "<Figure size 432x288 with 1 Axes>"
      ]
     },
     "metadata": {
      "needs_background": "light"
     },
     "output_type": "display_data"
    },
    {
     "name": "stdout",
     "output_type": "stream",
     "text": [
      "Min_path: 18231\n",
      "Average_path: 18231.0\n",
      "Max_path: 18231\n",
      "\n",
      "Min_time: 8.713055099999998\n",
      "Average_time: 8.713055099999998\n",
      "Max_time: 8.713055099999998\n"
     ]
    }
   ],
   "source": [
    "'''\n",
    "min, max i średnia długość ścieżki i czas\n",
    "najlepsze rozwiązanie jako path i out\n",
    "'''\n",
    "min_path = 1000000\n",
    "average_path = 0\n",
    "max_path = 0\n",
    "\n",
    "min_time = time.perf_counter() + 100\n",
    "average_time = 0\n",
    "max_time = 0\n",
    "\n",
    "best_path = [0]\n",
    "best_out = [0]\n",
    "\n",
    "\n",
    "\n",
    "for omega in range(repeat):  # powtórz testy n razy\n",
    "    path, out = get_random_path(len(points_tab))\n",
    "    path_time = time.perf_counter()\n",
    "\n",
    "    while(True):\n",
    "        best_imp1, best_edges = give_best_edges(path)\n",
    "        best_imp2, best_vertices = give_best_vertices(path, out)\n",
    "\n",
    "        # Jeśli znaleziono jakąś poprawę: zapisz rezultat\n",
    "        if best_imp1 > 0 or best_imp2 > 0:  \n",
    "            change_your_path(path, out, best_imp1, best_imp2, best_edges, best_vertices)    \n",
    "        \n",
    "        # Warunek stopu\n",
    "        else:\n",
    "            break\n",
    "\n",
    "    \n",
    "    path_time = time.perf_counter() - path_time\n",
    "    \n",
    "    if distance(path) < min_path:\n",
    "        min_path = distance(path)\n",
    "        best_path = path\n",
    "        best_out = out\n",
    "    if distance(path) > max_path:\n",
    "        max_path = distance(path)\n",
    "    average_path += distance(path)\n",
    "    \n",
    "    if path_time < min_time:\n",
    "        min_time = path_time\n",
    "    if path_time > max_time:\n",
    "        max_time = path_time\n",
    "    average_time += path_time\n",
    "    \n",
    "    \n",
    "    print(\"\\n\")\n",
    "    print(distance(path))\n",
    "    print_graph(path, out)\n",
    "    \n",
    "    \n",
    "print(\"Min_path: \"+str(min_path))\n",
    "print(\"Average_path: \"+str(average_path/repeat))\n",
    "print(\"Max_path: \"+str(max_path))\n",
    "print()\n",
    "print(\"Min_time: \"+str(min_time))\n",
    "print(\"Average_time: \"+str(average_time/repeat))\n",
    "print(\"Max_time: \"+str(max_time))"
   ]
  },
  {
   "cell_type": "code",
   "execution_count": 15,
   "metadata": {},
   "outputs": [
    {
     "name": "stdout",
     "output_type": "stream",
     "text": [
      "8.1690746\n"
     ]
    }
   ],
   "source": [
    "MSLS_AVG = average_time / repeat\n",
    "print(MSLS_AVG)"
   ]
  },
  {
   "cell_type": "markdown",
   "metadata": {},
   "source": [
    "# ILS1"
   ]
  },
  {
   "cell_type": "code",
   "execution_count": 16,
   "metadata": {
    "scrolled": false
   },
   "outputs": [
    {
     "name": "stdout",
     "output_type": "stream",
     "text": [
      "\n",
      "\n",
      "16848\n"
     ]
    },
    {
     "data": {
      "image/png": "[encoded data removed]",
      "text/plain": [
       "<Figure size 432x288 with 1 Axes>"
      ]
     },
     "metadata": {
      "needs_background": "light"
     },
     "output_type": "display_data"
    },
    {
     "name": "stdout",
     "output_type": "stream",
     "text": [
      "Min_path: 16848\n",
      "Average_path: 16848.0\n",
      "Max_path: 16848\n",
      "\n",
      "Min_time: 8.224512599999999\n",
      "Average_time: 8.224512599999999\n",
      "Max_time: 8.224512599999999\n"
     ]
    }
   ],
   "source": [
    "from random import randrange\n",
    "import time\n",
    "\n",
    "'''\n",
    "min, max i średnia długość ścieżki i czas\n",
    "najlepsze rozwiązanie jako path i out\n",
    "'''\n",
    "min_path = 1000000\n",
    "average_path = 0\n",
    "max_path = 0\n",
    "\n",
    "min_time = time.perf_counter() + 100\n",
    "average_time = 0\n",
    "max_time = 0\n",
    "\n",
    "best_path = [0]\n",
    "best_out = [0]\n",
    "\n",
    "\n",
    "\n",
    "for omega in range(repeat):  # powtórz testy n razy\n",
    "    path, out = get_random_path(len(points_tab))\n",
    "    path_time = time.perf_counter()\n",
    "\n",
    "    while(True):\n",
    "        best_imp1, best_edges = give_best_edges(path)\n",
    "        best_imp2, best_vertices = give_best_vertices(path, out)\n",
    "\n",
    "        # Jeśli znaleziono jakąś poprawę, zapisz rezultat\n",
    "        if best_imp1 > 0 or best_imp2 > 0:  \n",
    "            change_your_path(path, out, best_imp1, best_imp2, best_edges, best_vertices)         \n",
    "        \n",
    "\n",
    "        # Zamiana wierzchołkow\n",
    "        v_swap_path = copy.deepcopy(path)\n",
    "        v_swap_out = copy.deepcopy(out)\n",
    "        \n",
    "        for vertice in range(2):\n",
    "            x = v_swap_path[randrange(100)]\n",
    "            y = v_swap_out[randrange(100)]\n",
    "\n",
    "            v_swap_path.insert(v_swap_path.index(x), y)\n",
    "            v_swap_path.remove(x)\n",
    "\n",
    "            v_swap_out.append(x)\n",
    "            v_swap_out.remove(y)\n",
    "         \n",
    "        # Zamiana krawędzi\n",
    "        for edge in range(2):\n",
    "            x = randrange(100)\n",
    "            y = randrange(100)\n",
    "\n",
    "            for z in range(int(abs(y - x)/2)):  # Zamiana krawędzi, czyli obrócenie kolejności (krawędź1; krawędź2>\n",
    "                if x < y:\n",
    "                    v_swap_path[x + 1 + z], v_swap_path[y - z] = v_swap_path[y - z], v_swap_path[x + 1 + z]\n",
    "                else:\n",
    "                    v_swap_path[y + 1 + z], v_swap_path[x - z] = v_swap_path[x - z], v_swap_path[y + 1 + z]\n",
    "\n",
    "        if distance(v_swap_path) < distance(path):\n",
    "            path = copy.deepcopy(v_swap_path)\n",
    "            out = copy.deepcopy(v_swap_out)\n",
    "            \n",
    "\n",
    "        \n",
    "        # Warunek stopu\n",
    "        if time.perf_counter() - path_time > MSLS_AVG:\n",
    "            break\n",
    "\n",
    "    \n",
    "    path_time = time.perf_counter() - path_time\n",
    "    \n",
    "    if distance(path) < min_path:\n",
    "        min_path = distance(path)\n",
    "        best_path = path\n",
    "        best_out = out\n",
    "    if distance(path) > max_path:\n",
    "        max_path = distance(path)\n",
    "    average_path += distance(path)\n",
    "    \n",
    "    if path_time < min_time:\n",
    "        min_time = path_time\n",
    "    if path_time > max_time:\n",
    "        max_time = path_time\n",
    "    average_time += path_time\n",
    "    \n",
    "    print(\"\\n\")\n",
    "    print(distance(path))\n",
    "    print_graph(path, out)\n",
    "    \n",
    "    \n",
    "print(\"Min_path: \"+str(min_path))\n",
    "print(\"Average_path: \"+str(average_path/repeat))\n",
    "print(\"Max_path: \"+str(max_path))\n",
    "print()\n",
    "print(\"Min_time: \"+str(min_time))\n",
    "print(\"Average_time: \"+str(average_time/repeat))\n",
    "print(\"Max_time: \"+str(max_time))"
   ]
  },
  {
   "cell_type": "markdown",
   "metadata": {},
   "source": [
    "# ILS2"
   ]
  },
  {
   "cell_type": "code",
   "execution_count": 17,
   "metadata": {},
   "outputs": [
    {
     "name": "stdout",
     "output_type": "stream",
     "text": [
      "\n",
      "\n",
      "13873\n"
     ]
    },
    {
     "data": {
      "image/png": "[encoded data removed]",
      "text/plain": [
       "<Figure size 432x288 with 1 Axes>"
      ]
     },
     "metadata": {
      "needs_background": "light"
     },
     "output_type": "display_data"
    },
    {
     "name": "stdout",
     "output_type": "stream",
     "text": [
      "Min_path: 13873\n",
      "Average_path: 13873.0\n",
      "Max_path: 13873\n",
      "\n",
      "Min_time: 8.581240600000001\n",
      "Average_time: 8.581240600000001\n",
      "Max_time: 8.581240600000001\n"
     ]
    }
   ],
   "source": [
    "'''\n",
    "min, max i średnia długość ścieżki i czas\n",
    "najlepsze rozwiązanie jako path i out\n",
    "'''\n",
    "min_path = 1000000\n",
    "average_path = 0\n",
    "max_path = 0\n",
    "\n",
    "min_time = time.perf_counter() + 100\n",
    "average_time = 0\n",
    "max_time = 0\n",
    "\n",
    "best_path = [0]\n",
    "best_out = [0]\n",
    "\n",
    "\n",
    "\n",
    "for omega in range(repeat):  # powtórz testy n razy\n",
    "    path, out = get_random_path(len(points_tab))\n",
    "    path_time = time.perf_counter()\n",
    "\n",
    "    while(True):\n",
    "        \n",
    "        # Znalezienie najlepszych wymian\n",
    "        best_imp1, best_edges = give_best_edges(path)\n",
    "        best_imp2, best_vertices = give_best_vertices(path, out)\n",
    "\n",
    "        # Jeśli znaleziono jakąś poprawę: zapisz rezultat\n",
    "        if best_imp1 > 0 or best_imp2 > 0:  \n",
    "            change_your_path(path, out, best_imp1, best_imp2, best_edges, best_vertices)\n",
    "            \n",
    "            \n",
    "\n",
    "        new_path = copy.deepcopy(path)\n",
    "        new_out = copy.deepcopy(out)\n",
    "        \n",
    "        \n",
    "        # Wyrzucenie 20 wierzchołków\n",
    "        r = random.randint(0, len(new_path) - 1)\n",
    "        for x in range(20):\n",
    "            new_out.append(new_path[out_of(x + r)])\n",
    "            new_path[out_of(x + r)] = -1\n",
    "        for x in range(20):\n",
    "            new_path.remove(-1)\n",
    "        \n",
    "        \n",
    "        \n",
    "        # Dopisanie 20 nowych wierzchołków\n",
    "        while len(new_path) < len(path):  # tak długo jak brakuje wierzchołków szukaj kolejnego\n",
    "            min_cost = 100000\n",
    "            previous_point_index = 0\n",
    "            best_point = 0\n",
    "            for new_point in new_out:  # dla każdego punktu\n",
    "                for x in range(len(new_path)):  # dla każdej krawędzi\n",
    "                    point1 = new_path[x]\n",
    "                    point2 = new_path[0]\n",
    "                    if x != len(new_path) - 1:\n",
    "                        point2 = new_path[x + 1]\n",
    "\n",
    "                    cost = length_tab[point1][new_point] + length_tab[point2][new_point] - length_tab[point1][point2]\n",
    "                    if cost < min_cost:\n",
    "                        min_cost = cost\n",
    "                        previous_point_index = x\n",
    "                        best_point = new_point\n",
    "\n",
    "            new_path.insert(previous_point_index + 1, best_point)  # wstaw nowy punkt za miejscem previous point\n",
    "            new_out.remove(best_point)\n",
    "\n",
    "        if distance(new_path) < distance(path):\n",
    "            path = copy.deepcopy(new_path)\n",
    "            out = copy.deepcopy(new_out)\n",
    "\n",
    "            \n",
    "        # Warunek stopu\n",
    "        if time.perf_counter() - path_time > MSLS_AVG:\n",
    "            break\n",
    "        \n",
    "        \n",
    "        \n",
    "    path_time = time.perf_counter() - path_time\n",
    "    \n",
    "    if distance(path) < min_path:\n",
    "        min_path = distance(path)\n",
    "        best_path = path\n",
    "        best_out = out\n",
    "    if distance(path) > max_path:\n",
    "        max_path = distance(path)\n",
    "    average_path += distance(path)\n",
    "    \n",
    "    if path_time < min_time:\n",
    "        min_time = path_time\n",
    "    if path_time > max_time:\n",
    "        max_time = path_time\n",
    "    average_time += path_time\n",
    "    \n",
    "    \n",
    "    print(\"\\n\")\n",
    "    print(distance(path))\n",
    "    print_graph(path, out)\n",
    "    \n",
    "    \n",
    "print(\"Min_path: \"+str(min_path))\n",
    "print(\"Average_path: \"+str(average_path/repeat))\n",
    "print(\"Max_path: \"+str(max_path))\n",
    "print()\n",
    "print(\"Min_time: \"+str(min_time))\n",
    "print(\"Average_time: \"+str(average_time/repeat))\n",
    "print(\"Max_time: \"+str(max_time))"
   ]
  },
  {
   "cell_type": "code",
   "execution_count": null,
   "metadata": {},
   "outputs": [],
   "source": []
  }
 ],
 "metadata": {
  "kernelspec": {
   "display_name": "Python 3",
   "language": "python",
   "name": "python3"
  },
  "language_info": {
   "codemirror_mode": {
    "name": "ipython",
    "version": 3
   },
   "file_extension": ".py",
   "mimetype": "text/x-python",
   "name": "python",
   "nbconvert_exporter": "python",
   "pygments_lexer": "ipython3",
   "version": "3.7.6"
  }
 },
 "nbformat": 4,
 "nbformat_minor": 4
}
